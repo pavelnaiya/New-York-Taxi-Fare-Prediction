{
  "nbformat": 4,
  "nbformat_minor": 0,
  "metadata": {
    "colab": {
      "name": "New York Taxi Fare Prediction.ipynb",
      "provenance": [],
      "collapsed_sections": [],
      "toc_visible": true,
      "machine_shape": "hm"
    },
    "kernelspec": {
      "name": "python3",
      "display_name": "Python 3"
    }
  },
  "cells": [
    {
      "cell_type": "markdown",
      "metadata": {
        "id": "agZaaM1ucdiB",
        "colab_type": "text"
      },
      "source": [
        "# Mount Google Drive"
      ]
    },
    {
      "cell_type": "code",
      "metadata": {
        "id": "nFbDfMbIcSCv",
        "colab_type": "code",
        "colab": {
          "base_uri": "https://localhost:8080/",
          "height": 129
        },
        "outputId": "00d76017-a67c-4562-bdd3-0f6f19bd0fcf"
      },
      "source": [
        "from google.colab import drive\n",
        "drive.mount('/content/drive')"
      ],
      "execution_count": 1,
      "outputs": [
        {
          "output_type": "stream",
          "text": [
            "Go to this URL in a browser: https://accounts.google.com/o/oauth2/auth?client_id=947318989803-6bn6qk8qdgf4n4g3pfee6491hc0brc4i.apps.googleusercontent.com&redirect_uri=urn%3aietf%3awg%3aoauth%3a2.0%3aoob&response_type=code&scope=email%20https%3a%2f%2fwww.googleapis.com%2fauth%2fdocs.test%20https%3a%2f%2fwww.googleapis.com%2fauth%2fdrive%20https%3a%2f%2fwww.googleapis.com%2fauth%2fdrive.photos.readonly%20https%3a%2f%2fwww.googleapis.com%2fauth%2fpeopleapi.readonly\n",
            "\n",
            "Enter your authorization code:\n",
            "··········\n",
            "Mounted at /content/drive\n"
          ],
          "name": "stdout"
        }
      ]
    },
    {
      "cell_type": "code",
      "metadata": {
        "id": "iO0ytOvZbv76",
        "colab_type": "code",
        "colab": {
          "base_uri": "https://localhost:8080/",
          "height": 219
        },
        "outputId": "104b5686-bf94-4bb1-af11-33052cac819e"
      },
      "source": [
        "! pip install folium"
      ],
      "execution_count": 2,
      "outputs": [
        {
          "output_type": "stream",
          "text": [
            "Requirement already satisfied: folium in /usr/local/lib/python3.6/dist-packages (0.8.3)\n",
            "Requirement already satisfied: numpy in /usr/local/lib/python3.6/dist-packages (from folium) (1.18.5)\n",
            "Requirement already satisfied: requests in /usr/local/lib/python3.6/dist-packages (from folium) (2.23.0)\n",
            "Requirement already satisfied: branca>=0.3.0 in /usr/local/lib/python3.6/dist-packages (from folium) (0.4.1)\n",
            "Requirement already satisfied: six in /usr/local/lib/python3.6/dist-packages (from folium) (1.12.0)\n",
            "Requirement already satisfied: jinja2 in /usr/local/lib/python3.6/dist-packages (from folium) (2.11.2)\n",
            "Requirement already satisfied: urllib3!=1.25.0,!=1.25.1,<1.26,>=1.21.1 in /usr/local/lib/python3.6/dist-packages (from requests->folium) (1.24.3)\n",
            "Requirement already satisfied: certifi>=2017.4.17 in /usr/local/lib/python3.6/dist-packages (from requests->folium) (2020.6.20)\n",
            "Requirement already satisfied: chardet<4,>=3.0.2 in /usr/local/lib/python3.6/dist-packages (from requests->folium) (3.0.4)\n",
            "Requirement already satisfied: idna<3,>=2.5 in /usr/local/lib/python3.6/dist-packages (from requests->folium) (2.9)\n",
            "Requirement already satisfied: MarkupSafe>=0.23 in /usr/local/lib/python3.6/dist-packages (from jinja2->folium) (1.1.1)\n"
          ],
          "name": "stdout"
        }
      ]
    },
    {
      "cell_type": "code",
      "metadata": {
        "id": "Qi_Bll2lgj0g",
        "colab_type": "code",
        "colab": {}
      },
      "source": [
        "root_path = '/content/drive/My Drive/Case Studies/Taxi Demand'  #change dir to your project folder"
      ],
      "execution_count": 3,
      "outputs": []
    },
    {
      "cell_type": "code",
      "metadata": {
        "id": "LGhf5mXpI97P",
        "colab_type": "code",
        "colab": {}
      },
      "source": [
        "import os\n",
        "os.chdir(root_path)  #change dir"
      ],
      "execution_count": 4,
      "outputs": []
    },
    {
      "cell_type": "code",
      "metadata": {
        "id": "YknMZoR2Jolg",
        "colab_type": "code",
        "colab": {
          "base_uri": "https://localhost:8080/",
          "height": 54
        },
        "outputId": "06092276-5da3-4f37-8bea-883e6b19cd2f"
      },
      "source": [
        "!dir"
      ],
      "execution_count": 5,
      "outputs": [
        {
          "output_type": "stream",
          "text": [
            "GCP-Coupons-Instructions.rtf  test.csv\t train.csv.zip\n",
            "sample_submission.csv\t      train.csv  yellow_tripdata_2019-01.csv\n"
          ],
          "name": "stdout"
        }
      ]
    },
    {
      "cell_type": "markdown",
      "metadata": {
        "id": "HS67YkONcPFC",
        "colab_type": "text"
      },
      "source": [
        "# Import Dependencies"
      ]
    },
    {
      "cell_type": "code",
      "metadata": {
        "id": "NZXkkDKxcaZz",
        "colab_type": "code",
        "colab": {
          "base_uri": "https://localhost:8080/",
          "height": 54
        },
        "outputId": "bac4ae1d-379a-4f28-c18b-2e5d6f1acfd9"
      },
      "source": [
        "#ref: https://www.youtube.com/watch?v=ods97a5Pzw0\n",
        "#ref: https://github.com/dask/dask-tutorial\n",
        "\n",
        "import dask.dataframe as dd\n",
        "import pandas as pd\n",
        "\n",
        "import matplotlib.pyplot as plt\n",
        "import seaborn as sns\n",
        "\n",
        "from tqdm.notebook import trange, tqdm\n",
        "tqdm.pandas(desc=\"Progress\")"
      ],
      "execution_count": 6,
      "outputs": [
        {
          "output_type": "stream",
          "text": [
            "/usr/local/lib/python3.6/dist-packages/statsmodels/tools/_testing.py:19: FutureWarning: pandas.util.testing is deprecated. Use the functions in the public API at pandas.testing instead.\n",
            "  import pandas.util.testing as tm\n"
          ],
          "name": "stderr"
        }
      ]
    },
    {
      "cell_type": "markdown",
      "metadata": {
        "id": "Y3yaHLMl6HNO",
        "colab_type": "text"
      },
      "source": [
        "# File descriptions\n",
        "* train.csv - Input features and target fare_amount values for the training set (about 55M rows).\n",
        "* test.csv - Input features for the test set (about 10K rows). Your goal is to predict fare_amount for each row.\n",
        "* sample_submission.csv - a sample submission file in the correct format (columns key and fare_amount). This file 'predicts' fare_amount to be $11.35 for all rows, which is the mean fare_amount from the training set.\n",
        "## Data fields\n",
        "### ID\n",
        "* key - Unique string identifying each row in both the training and test sets. Comprised of pickup_datetime plus a unique integer, but this doesn't matter, it should just be used as a unique ID field. Required in your submission CSV. Not necessarily needed in the training set, but could be useful to simulate a 'submission file' while doing cross-validation within the training set.\n",
        "### Features\n",
        "* pickup_datetime - timestamp value indicating when the taxi ride started.\n",
        "* pickup_longitude - float for longitude coordinate of where the taxi ride started.\n",
        "* pickup_latitude - float for latitude coordinate of where the taxi ride started.\n",
        "* dropoff_longitude - float for longitude coordinate of where the taxi ride ended.\n",
        "* dropoff_latitude - float for latitude coordinate of where the taxi ride ended.\n",
        "* passenger_count - integer indicating the number of passengers in the taxi ride.\n",
        "### Target\n",
        "* fare_amount - float dollar amount of the cost of the taxi ride. This value is only in the training set; this is what you are predicting in the test set and it is required in your submission CSV."
      ]
    },
    {
      "cell_type": "markdown",
      "metadata": {
        "id": "J6c5-KOTRgw9",
        "colab_type": "text"
      },
      "source": [
        "# Loading Data"
      ]
    },
    {
      "cell_type": "code",
      "metadata": {
        "id": "qu5UkjS3-n3w",
        "colab_type": "code",
        "colab": {}
      },
      "source": [
        "datatypes = {'key': 'str',\n",
        "            'fare_amount': 'float64', \n",
        "            'pickup_datetime': 'str',\n",
        "            'pickup_longitude': 'float32',\n",
        "            'pickup_latitude': 'float32',\n",
        "            'dropoff_longitude': 'float32',\n",
        "            'dropoff_latitude': 'float32',\n",
        "            'passenger_count': 'int64'}"
      ],
      "execution_count": 7,
      "outputs": []
    },
    {
      "cell_type": "code",
      "metadata": {
        "id": "U9kqBl3PVTHH",
        "colab_type": "code",
        "colab": {}
      },
      "source": [
        "data_path = '/content/drive/My Drive/Case Studies/Taxi Demand/train.csv'\n",
        "\n",
        "cols = datatypes.keys()\n",
        "\n",
        "# dask's read_csv takes no time at all!\n",
        "df = pd.read_csv(data_path,nrows = 5_000_000, usecols=cols, dtype=datatypes, )"
      ],
      "execution_count": 8,
      "outputs": []
    },
    {
      "cell_type": "markdown",
      "metadata": {
        "id": "tE2IJ5anqj4E",
        "colab_type": "text"
      },
      "source": [
        "# Cleaning Data"
      ]
    },
    {
      "cell_type": "code",
      "metadata": {
        "id": "C6uT-mbcsmmo",
        "colab_type": "code",
        "colab": {
          "base_uri": "https://localhost:8080/",
          "height": 293
        },
        "outputId": "36b71e26-2a8b-4af6-af3d-84586b79e5f2"
      },
      "source": [
        "df.info()"
      ],
      "execution_count": 9,
      "outputs": [
        {
          "output_type": "stream",
          "text": [
            "<class 'pandas.core.frame.DataFrame'>\n",
            "RangeIndex: 5000000 entries, 0 to 4999999\n",
            "Data columns (total 8 columns):\n",
            " #   Column             Dtype  \n",
            "---  ------             -----  \n",
            " 0   key                object \n",
            " 1   fare_amount        float64\n",
            " 2   pickup_datetime    object \n",
            " 3   pickup_longitude   float32\n",
            " 4   pickup_latitude    float32\n",
            " 5   dropoff_longitude  float32\n",
            " 6   dropoff_latitude   float32\n",
            " 7   passenger_count    int64  \n",
            "dtypes: float32(4), float64(1), int64(1), object(2)\n",
            "memory usage: 228.9+ MB\n"
          ],
          "name": "stdout"
        }
      ]
    },
    {
      "cell_type": "code",
      "metadata": {
        "id": "OSJ1WjBbetGP",
        "colab_type": "code",
        "colab": {
          "base_uri": "https://localhost:8080/",
          "height": 182
        },
        "outputId": "58789771-91a0-4244-c02e-0f2c4abf231b"
      },
      "source": [
        "#Finding rows with null values\n",
        "df.isnull().sum()"
      ],
      "execution_count": 38,
      "outputs": [
        {
          "output_type": "execute_result",
          "data": {
            "text/plain": [
              "key                  0\n",
              "fare_amount          0\n",
              "pickup_datetime      0\n",
              "pickup_longitude     0\n",
              "pickup_latitude      0\n",
              "dropoff_longitude    0\n",
              "dropoff_latitude     0\n",
              "passenger_count      0\n",
              "dtype: int64"
            ]
          },
          "metadata": {
            "tags": []
          },
          "execution_count": 38
        }
      ]
    },
    {
      "cell_type": "markdown",
      "metadata": {
        "id": "_ukc3bQo4BA5",
        "colab_type": "text"
      },
      "source": [
        "## Removing rows with null values"
      ]
    },
    {
      "cell_type": "code",
      "metadata": {
        "id": "xz8TPWDph4rv",
        "colab_type": "code",
        "colab": {}
      },
      "source": [
        "df.dropna(inplace=True)"
      ],
      "execution_count": 11,
      "outputs": []
    },
    {
      "cell_type": "code",
      "metadata": {
        "id": "QaAyL5JnXIqC",
        "colab_type": "code",
        "colab": {
          "base_uri": "https://localhost:8080/",
          "height": 300
        },
        "outputId": "7798ead6-b077-46dc-cad3-b9540f177d8c"
      },
      "source": [
        "df.describe()"
      ],
      "execution_count": 12,
      "outputs": [
        {
          "output_type": "execute_result",
          "data": {
            "text/html": [
              "<div>\n",
              "<style scoped>\n",
              "    .dataframe tbody tr th:only-of-type {\n",
              "        vertical-align: middle;\n",
              "    }\n",
              "\n",
              "    .dataframe tbody tr th {\n",
              "        vertical-align: top;\n",
              "    }\n",
              "\n",
              "    .dataframe thead th {\n",
              "        text-align: right;\n",
              "    }\n",
              "</style>\n",
              "<table border=\"1\" class=\"dataframe\">\n",
              "  <thead>\n",
              "    <tr style=\"text-align: right;\">\n",
              "      <th></th>\n",
              "      <th>fare_amount</th>\n",
              "      <th>pickup_longitude</th>\n",
              "      <th>pickup_latitude</th>\n",
              "      <th>dropoff_longitude</th>\n",
              "      <th>dropoff_latitude</th>\n",
              "      <th>passenger_count</th>\n",
              "    </tr>\n",
              "  </thead>\n",
              "  <tbody>\n",
              "    <tr>\n",
              "      <th>count</th>\n",
              "      <td>4.999964e+06</td>\n",
              "      <td>4.999964e+06</td>\n",
              "      <td>4.999964e+06</td>\n",
              "      <td>4.999964e+06</td>\n",
              "      <td>4.999964e+06</td>\n",
              "      <td>4.999964e+06</td>\n",
              "    </tr>\n",
              "    <tr>\n",
              "      <th>mean</th>\n",
              "      <td>1.134074e+01</td>\n",
              "      <td>-7.128647e+01</td>\n",
              "      <td>4.173917e+01</td>\n",
              "      <td>-7.128626e+01</td>\n",
              "      <td>4.173621e+01</td>\n",
              "      <td>1.684707e+00</td>\n",
              "    </tr>\n",
              "    <tr>\n",
              "      <th>std</th>\n",
              "      <td>9.820066e+00</td>\n",
              "      <td>1.263833e+01</td>\n",
              "      <td>9.093767e+00</td>\n",
              "      <td>1.268524e+01</td>\n",
              "      <td>9.608747e+00</td>\n",
              "      <td>1.331851e+00</td>\n",
              "    </tr>\n",
              "    <tr>\n",
              "      <th>min</th>\n",
              "      <td>-1.000000e+02</td>\n",
              "      <td>-3.426609e+03</td>\n",
              "      <td>-3.488080e+03</td>\n",
              "      <td>-3.412653e+03</td>\n",
              "      <td>-3.488080e+03</td>\n",
              "      <td>0.000000e+00</td>\n",
              "    </tr>\n",
              "    <tr>\n",
              "      <th>25%</th>\n",
              "      <td>6.000000e+00</td>\n",
              "      <td>-7.399207e+01</td>\n",
              "      <td>4.073491e+01</td>\n",
              "      <td>-7.399139e+01</td>\n",
              "      <td>4.073404e+01</td>\n",
              "      <td>1.000000e+00</td>\n",
              "    </tr>\n",
              "    <tr>\n",
              "      <th>50%</th>\n",
              "      <td>8.500000e+00</td>\n",
              "      <td>-7.398181e+01</td>\n",
              "      <td>4.075264e+01</td>\n",
              "      <td>-7.398016e+01</td>\n",
              "      <td>4.075315e+01</td>\n",
              "      <td>1.000000e+00</td>\n",
              "    </tr>\n",
              "    <tr>\n",
              "      <th>75%</th>\n",
              "      <td>1.250000e+01</td>\n",
              "      <td>-7.396711e+01</td>\n",
              "      <td>4.076712e+01</td>\n",
              "      <td>-7.396367e+01</td>\n",
              "      <td>4.076811e+01</td>\n",
              "      <td>2.000000e+00</td>\n",
              "    </tr>\n",
              "    <tr>\n",
              "      <th>max</th>\n",
              "      <td>1.273310e+03</td>\n",
              "      <td>3.439426e+03</td>\n",
              "      <td>3.310365e+03</td>\n",
              "      <td>3.457622e+03</td>\n",
              "      <td>3.345917e+03</td>\n",
              "      <td>2.080000e+02</td>\n",
              "    </tr>\n",
              "  </tbody>\n",
              "</table>\n",
              "</div>"
            ],
            "text/plain": [
              "        fare_amount  pickup_longitude  ...  dropoff_latitude  passenger_count\n",
              "count  4.999964e+06      4.999964e+06  ...      4.999964e+06     4.999964e+06\n",
              "mean   1.134074e+01     -7.128647e+01  ...      4.173621e+01     1.684707e+00\n",
              "std    9.820066e+00      1.263833e+01  ...      9.608747e+00     1.331851e+00\n",
              "min   -1.000000e+02     -3.426609e+03  ...     -3.488080e+03     0.000000e+00\n",
              "25%    6.000000e+00     -7.399207e+01  ...      4.073404e+01     1.000000e+00\n",
              "50%    8.500000e+00     -7.398181e+01  ...      4.075315e+01     1.000000e+00\n",
              "75%    1.250000e+01     -7.396711e+01  ...      4.076811e+01     2.000000e+00\n",
              "max    1.273310e+03      3.439426e+03  ...      3.345917e+03     2.080000e+02\n",
              "\n",
              "[8 rows x 6 columns]"
            ]
          },
          "metadata": {
            "tags": []
          },
          "execution_count": 12
        }
      ]
    },
    {
      "cell_type": "code",
      "metadata": {
        "id": "ccCA4tQA99uc",
        "colab_type": "code",
        "colab": {}
      },
      "source": [
        "#ref: https://www.kaggle.com/szelee/how-to-import-a-csv-file-of-55-million-rows"
      ],
      "execution_count": 13,
      "outputs": []
    },
    {
      "cell_type": "markdown",
      "metadata": {
        "id": "_jukm_CB3YqC",
        "colab_type": "text"
      },
      "source": [
        "## Removing Outlier from Fare Data"
      ]
    },
    {
      "cell_type": "code",
      "metadata": {
        "id": "lxTDH2vWO4hP",
        "colab_type": "code",
        "colab": {
          "base_uri": "https://localhost:8080/",
          "height": 295
        },
        "outputId": "277f9995-55e2-4075-e0ef-3326e3032983"
      },
      "source": [
        "#Fare Amount\n",
        "\n",
        "plt.hist(df['fare_amount'], bins=100)\n",
        "plt.xlabel('fare $USD')\n",
        "plt.title('Histogram');\n",
        "\n",
        "plt.show()"
      ],
      "execution_count": 14,
      "outputs": [
        {
          "output_type": "display_data",
          "data": {
            "image/png": "[encoded data removed]",
            "text/plain": [
              "<Figure size 432x288 with 1 Axes>"
            ]
          },
          "metadata": {
            "tags": [],
            "needs_background": "light"
          }
        }
      ]
    },
    {
      "cell_type": "code",
      "metadata": {
        "id": "sdXsWwRhUZGZ",
        "colab_type": "code",
        "colab": {}
      },
      "source": [
        "#Remove Data which are above $200 and less than $0\n",
        "\n",
        "df.drop(df[(df.fare_amount < 0)|(df.fare_amount > 200)].index, inplace=True)"
      ],
      "execution_count": 15,
      "outputs": []
    },
    {
      "cell_type": "markdown",
      "metadata": {
        "id": "4AG7bg-43dZb",
        "colab_type": "text"
      },
      "source": [
        "## Removing Outlier From Passeger Count"
      ]
    },
    {
      "cell_type": "code",
      "metadata": {
        "id": "me0a4mEWJ80-",
        "colab_type": "code",
        "colab": {
          "base_uri": "https://localhost:8080/",
          "height": 256
        },
        "outputId": "610b1da0-9b0e-4eea-a41a-768a3264c9e3"
      },
      "source": [
        "# Passenger Count\n",
        "df['passenger_count'].value_counts()"
      ],
      "execution_count": 16,
      "outputs": [
        {
          "output_type": "execute_result",
          "data": {
            "text/plain": [
              "1      3458762\n",
              "2       738292\n",
              "5       353891\n",
              "3       219251\n",
              "4       106005\n",
              "6       105773\n",
              "0        17602\n",
              "208          7\n",
              "9            2\n",
              "129          1\n",
              "51           1\n",
              "7            1\n",
              "Name: passenger_count, dtype: int64"
            ]
          },
          "metadata": {
            "tags": []
          },
          "execution_count": 16
        }
      ]
    },
    {
      "cell_type": "code",
      "metadata": {
        "id": "XYkp92ftKBdE",
        "colab_type": "code",
        "colab": {}
      },
      "source": [
        "#Remove Passenger Data which are above 10 and 0\n",
        "df.drop(df[(df.passenger_count > 10)|(df.passenger_count == 0)].index, inplace=True)"
      ],
      "execution_count": 17,
      "outputs": []
    },
    {
      "cell_type": "code",
      "metadata": {
        "id": "6EYhpiuBKpMo",
        "colab_type": "code",
        "colab": {
          "base_uri": "https://localhost:8080/",
          "height": 182
        },
        "outputId": "39df0d21-5f3b-4a7b-b586-6dadabd61c82"
      },
      "source": [
        "df['passenger_count'].value_counts()"
      ],
      "execution_count": 18,
      "outputs": [
        {
          "output_type": "execute_result",
          "data": {
            "text/plain": [
              "1    3458762\n",
              "2     738292\n",
              "5     353891\n",
              "3     219251\n",
              "4     106005\n",
              "6     105773\n",
              "9          2\n",
              "7          1\n",
              "Name: passenger_count, dtype: int64"
            ]
          },
          "metadata": {
            "tags": []
          },
          "execution_count": 18
        }
      ]
    },
    {
      "cell_type": "markdown",
      "metadata": {
        "id": "55ssjN3NYVVa",
        "colab_type": "text"
      },
      "source": [
        "## Removing coordinates which are outside New Work\n",
        "\n",
        "New York Boundary \n",
        "\n",
        "Get minimum and maximum Latitude and Longitude of New York?: https://gis.stackexchange.com/questions/255158/get-minimum-and-maximum-latitude-and-longitude-of-new-york\n",
        "\n",
        "* WEST LONGITUDE -74.257159\n",
        "* EAST LONGITUDE -73.699215\n",
        "* NORTH LATITUDE 40.915568\n",
        "* SOUTH LATITUDE 40.495992"
      ]
    },
    {
      "cell_type": "code",
      "metadata": {
        "id": "JsygMfxOKsBq",
        "colab_type": "code",
        "colab": {
          "base_uri": "https://localhost:8080/",
          "height": 521
        },
        "outputId": "b9de9604-324d-4c4e-f712-2b9f6c9c0d70"
      },
      "source": [
        "from IPython.display import IFrame\n",
        "\n",
        "IFrame('https://upload.wikimedia.org/wikipedia/commons/b/bc/FedStats_Lat_long.png', 500, 500)"
      ],
      "execution_count": 34,
      "outputs": [
        {
          "output_type": "execute_result",
          "data": {
            "text/html": [
              "\n",
              "        <iframe\n",
              "            width=\"500\"\n",
              "            height=\"500\"\n",
              "            src=\"https://upload.wikimedia.org/wikipedia/commons/b/bc/FedStats_Lat_long.png\"\n",
              "            frameborder=\"0\"\n",
              "            allowfullscreen\n",
              "        ></iframe>\n",
              "        "
            ],
            "text/plain": [
              "<IPython.lib.display.IFrame at 0x7f700f053198>"
            ]
          },
          "metadata": {
            "tags": []
          },
          "execution_count": 34
        }
      ]
    },
    {
      "cell_type": "code",
      "metadata": {
        "id": "ZLY_YHZhYqaA",
        "colab_type": "code",
        "colab": {}
      },
      "source": [
        "df.drop(df[(df.pickup_longitude < -74.15)|(df.pickup_longitude > -73.7004)].index, inplace=True)\n",
        "df.drop(df[(df.dropoff_longitude < -74.15)|(df.dropoff_longitude > -73.7004)].index, inplace=True)\n",
        "\n",
        "df.drop(df[(df.pickup_latitude < 40.5774)|(df.pickup_latitude > 40.9176)].index, inplace=True)\n",
        "df.drop(df[(df.dropoff_latitude < 40.5774)|(df.dropoff_latitude > 40.9176)].index, inplace=True)"
      ],
      "execution_count": 37,
      "outputs": []
    },
    {
      "cell_type": "markdown",
      "metadata": {
        "id": "1dZ5U5ex30Cj",
        "colab_type": "text"
      },
      "source": [
        "## Visualizing Pickup Coordinates"
      ]
    },
    {
      "cell_type": "code",
      "metadata": {
        "id": "uROk851Pb5by",
        "colab_type": "code",
        "colab": {
          "base_uri": "https://localhost:8080/",
          "height": 912
        },
        "outputId": "97bd2e7e-c0d6-4e43-cce3-e828e996302b"
      },
      "source": [
        "import folium\n",
        "\n",
        "map =folium.Map(location=[40.8176, -74.0004], zoom_start = 11,tiles = \"Stamen Toner\")\n",
        "\n",
        "sample = df.sample(n = 500)\n",
        "\n",
        "for i,j in sample.iterrows():\n",
        "    folium.Marker([j[\"pickup_latitude\"], j[\"pickup_longitude\"]]).add_to(map)\n",
        "\n",
        "map"
      ],
      "execution_count": 52,
      "outputs": [
        {
          "output_type": "execute_result",
          "data": {
            "text/html": [
              "<div style=\"width:100%;\"><div style=\"position:relative;width:100%;height:0;padding-bottom:60%;\"><span style=\"color:#565656\">Make this Notebook Trusted to load map: File -> Trust Notebook</span><iframe src=\"about:blank\" style=\"position:absolute;width:100%;height:100%;left:0;top:0;border:none !important;\" data-html=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 onload=\"this.contentDocument.open();this.contentDocument.write(atob(this.getAttribute('data-html')));this.contentDocument.close();\" allowfullscreen webkitallowfullscreen mozallowfullscreen></iframe></div></div>"
            ],
            "text/plain": [
              "<folium.folium.Map at 0x7f700c4f1be0>"
            ]
          },
          "metadata": {
            "tags": []
          },
          "execution_count": 52
        }
      ]
    },
    {
      "cell_type": "markdown",
      "metadata": {
        "id": "-G4zWTGE4SG8",
        "colab_type": "text"
      },
      "source": [
        "# Feature Engineering"
      ]
    },
    {
      "cell_type": "code",
      "metadata": {
        "id": "2v0SZSKg4UYk",
        "colab_type": "code",
        "colab": {
          "base_uri": "https://localhost:8080/",
          "height": 206
        },
        "outputId": "cd3c4dba-d416-4d18-eda3-d90c1a59a663"
      },
      "source": [
        "df.head()"
      ],
      "execution_count": 50,
      "outputs": [
        {
          "output_type": "execute_result",
          "data": {
            "text/html": [
              "<div>\n",
              "<style scoped>\n",
              "    .dataframe tbody tr th:only-of-type {\n",
              "        vertical-align: middle;\n",
              "    }\n",
              "\n",
              "    .dataframe tbody tr th {\n",
              "        vertical-align: top;\n",
              "    }\n",
              "\n",
              "    .dataframe thead th {\n",
              "        text-align: right;\n",
              "    }\n",
              "</style>\n",
              "<table border=\"1\" class=\"dataframe\">\n",
              "  <thead>\n",
              "    <tr style=\"text-align: right;\">\n",
              "      <th></th>\n",
              "      <th>key</th>\n",
              "      <th>fare_amount</th>\n",
              "      <th>pickup_datetime</th>\n",
              "      <th>pickup_longitude</th>\n",
              "      <th>pickup_latitude</th>\n",
              "      <th>dropoff_longitude</th>\n",
              "      <th>dropoff_latitude</th>\n",
              "      <th>passenger_count</th>\n",
              "    </tr>\n",
              "  </thead>\n",
              "  <tbody>\n",
              "    <tr>\n",
              "      <th>0</th>\n",
              "      <td>2009-06-15 17:26:21.0000001</td>\n",
              "      <td>4.5</td>\n",
              "      <td>2009-06-15 17:26:21 UTC</td>\n",
              "      <td>-73.844315</td>\n",
              "      <td>40.721317</td>\n",
              "      <td>-73.841614</td>\n",
              "      <td>40.712276</td>\n",
              "      <td>1</td>\n",
              "    </tr>\n",
              "    <tr>\n",
              "      <th>1</th>\n",
              "      <td>2010-01-05 16:52:16.0000002</td>\n",
              "      <td>16.9</td>\n",
              "      <td>2010-01-05 16:52:16 UTC</td>\n",
              "      <td>-74.016045</td>\n",
              "      <td>40.711304</td>\n",
              "      <td>-73.979271</td>\n",
              "      <td>40.782005</td>\n",
              "      <td>1</td>\n",
              "    </tr>\n",
              "    <tr>\n",
              "      <th>2</th>\n",
              "      <td>2011-08-18 00:35:00.00000049</td>\n",
              "      <td>5.7</td>\n",
              "      <td>2011-08-18 00:35:00 UTC</td>\n",
              "      <td>-73.982735</td>\n",
              "      <td>40.761269</td>\n",
              "      <td>-73.991241</td>\n",
              "      <td>40.750561</td>\n",
              "      <td>2</td>\n",
              "    </tr>\n",
              "    <tr>\n",
              "      <th>3</th>\n",
              "      <td>2012-04-21 04:30:42.0000001</td>\n",
              "      <td>7.7</td>\n",
              "      <td>2012-04-21 04:30:42 UTC</td>\n",
              "      <td>-73.987129</td>\n",
              "      <td>40.733143</td>\n",
              "      <td>-73.991570</td>\n",
              "      <td>40.758091</td>\n",
              "      <td>1</td>\n",
              "    </tr>\n",
              "    <tr>\n",
              "      <th>4</th>\n",
              "      <td>2010-03-09 07:51:00.000000135</td>\n",
              "      <td>5.3</td>\n",
              "      <td>2010-03-09 07:51:00 UTC</td>\n",
              "      <td>-73.968094</td>\n",
              "      <td>40.768009</td>\n",
              "      <td>-73.956657</td>\n",
              "      <td>40.783764</td>\n",
              "      <td>1</td>\n",
              "    </tr>\n",
              "  </tbody>\n",
              "</table>\n",
              "</div>"
            ],
            "text/plain": [
              "                             key  ...  passenger_count\n",
              "0    2009-06-15 17:26:21.0000001  ...                1\n",
              "1    2010-01-05 16:52:16.0000002  ...                1\n",
              "2   2011-08-18 00:35:00.00000049  ...                2\n",
              "3    2012-04-21 04:30:42.0000001  ...                1\n",
              "4  2010-03-09 07:51:00.000000135  ...                1\n",
              "\n",
              "[5 rows x 8 columns]"
            ]
          },
          "metadata": {
            "tags": []
          },
          "execution_count": 50
        }
      ]
    },
    {
      "cell_type": "markdown",
      "metadata": {
        "id": "DQ08yATZ57vl",
        "colab_type": "text"
      },
      "source": [
        "## Time of the Day"
      ]
    },
    {
      "cell_type": "code",
      "metadata": {
        "id": "CFxEX8Y04ofk",
        "colab_type": "code",
        "colab": {}
      },
      "source": [
        "# Converting Pickup DateTimes to bins of 10 minutes\n",
        "\n",
        "data['pickup_datetime'] = pd.to_datetime(data['pickup_datetime'],format='%d-%m-%Y %H:%M')"
      ],
      "execution_count": 46,
      "outputs": []
    },
    {
      "cell_type": "code",
      "metadata": {
        "id": "t96hlR5C456m",
        "colab_type": "code",
        "colab": {
          "base_uri": "https://localhost:8080/",
          "height": 191
        },
        "outputId": "6ec6c106-5ab8-481b-9c28-eb974d5dffb0"
      },
      "source": [
        "from datetime import datetime\n",
        "datetime.fromtimestamp(df['pickup_datetime'][0])"
      ],
      "execution_count": 58,
      "outputs": [
        {
          "output_type": "error",
          "ename": "TypeError",
          "evalue": "ignored",
          "traceback": [
            "\u001b[0;31m---------------------------------------------------------------------------\u001b[0m",
            "\u001b[0;31mTypeError\u001b[0m                                 Traceback (most recent call last)",
            "\u001b[0;32m<ipython-input-58-2f525a05ef61>\u001b[0m in \u001b[0;36m<module>\u001b[0;34m()\u001b[0m\n\u001b[1;32m      1\u001b[0m \u001b[0;32mfrom\u001b[0m \u001b[0mdatetime\u001b[0m \u001b[0;32mimport\u001b[0m \u001b[0mdatetime\u001b[0m\u001b[0;34m\u001b[0m\u001b[0;34m\u001b[0m\u001b[0m\n\u001b[0;32m----> 2\u001b[0;31m \u001b[0mdatetime\u001b[0m\u001b[0;34m.\u001b[0m\u001b[0mfromtimestamp\u001b[0m\u001b[0;34m(\u001b[0m\u001b[0mdf\u001b[0m\u001b[0;34m[\u001b[0m\u001b[0;34m'pickup_datetime'\u001b[0m\u001b[0;34m]\u001b[0m\u001b[0;34m[\u001b[0m\u001b[0;36m0\u001b[0m\u001b[0;34m]\u001b[0m\u001b[0;34m)\u001b[0m\u001b[0;34m\u001b[0m\u001b[0;34m\u001b[0m\u001b[0m\n\u001b[0m",
            "\u001b[0;31mTypeError\u001b[0m: an integer is required (got type str)"
          ]
        }
      ]
    },
    {
      "cell_type": "code",
      "metadata": {
        "id": "y9CuZginTGMu",
        "colab_type": "code",
        "colab": {
          "base_uri": "https://localhost:8080/",
          "height": 35
        },
        "outputId": "d030f26b-2bf9-4b05-d6b7-c0c67b678895"
      },
      "source": [
        "type(df['pickup_datetime'][0])"
      ],
      "execution_count": 60,
      "outputs": [
        {
          "output_type": "execute_result",
          "data": {
            "text/plain": [
              "str"
            ]
          },
          "metadata": {
            "tags": []
          },
          "execution_count": 60
        }
      ]
    },
    {
      "cell_type": "markdown",
      "metadata": {
        "id": "8y36rOgGC4nq",
        "colab_type": "text"
      },
      "source": [
        "## Day of the Week"
      ]
    },
    {
      "cell_type": "code",
      "metadata": {
        "id": "lkSWhhCKEawP",
        "colab_type": "code",
        "colab": {
          "base_uri": "https://localhost:8080/",
          "height": 306
        },
        "outputId": "b8007166-c8b6-45de-a9bb-8375de9b6848"
      },
      "source": [
        "import datetime as dt\n",
        "df['pickup_datetime'].dt.day"
      ],
      "execution_count": 53,
      "outputs": [
        {
          "output_type": "error",
          "ename": "AttributeError",
          "evalue": "ignored",
          "traceback": [
            "\u001b[0;31m---------------------------------------------------------------------------\u001b[0m",
            "\u001b[0;31mAttributeError\u001b[0m                            Traceback (most recent call last)",
            "\u001b[0;32m<ipython-input-53-c00b3f2ca022>\u001b[0m in \u001b[0;36m<module>\u001b[0;34m()\u001b[0m\n\u001b[1;32m      1\u001b[0m \u001b[0;32mimport\u001b[0m \u001b[0mdatetime\u001b[0m \u001b[0;32mas\u001b[0m \u001b[0mdt\u001b[0m\u001b[0;34m\u001b[0m\u001b[0;34m\u001b[0m\u001b[0m\n\u001b[0;32m----> 2\u001b[0;31m \u001b[0mdf\u001b[0m\u001b[0;34m[\u001b[0m\u001b[0;34m'pickup_datetime'\u001b[0m\u001b[0;34m]\u001b[0m\u001b[0;34m.\u001b[0m\u001b[0mdt\u001b[0m\u001b[0;34m.\u001b[0m\u001b[0mday\u001b[0m\u001b[0;34m\u001b[0m\u001b[0;34m\u001b[0m\u001b[0m\n\u001b[0m",
            "\u001b[0;32m/usr/local/lib/python3.6/dist-packages/pandas/core/generic.py\u001b[0m in \u001b[0;36m__getattr__\u001b[0;34m(self, name)\u001b[0m\n\u001b[1;32m   5268\u001b[0m             \u001b[0;32mor\u001b[0m \u001b[0mname\u001b[0m \u001b[0;32min\u001b[0m \u001b[0mself\u001b[0m\u001b[0;34m.\u001b[0m\u001b[0m_accessors\u001b[0m\u001b[0;34m\u001b[0m\u001b[0;34m\u001b[0m\u001b[0m\n\u001b[1;32m   5269\u001b[0m         ):\n\u001b[0;32m-> 5270\u001b[0;31m             \u001b[0;32mreturn\u001b[0m \u001b[0mobject\u001b[0m\u001b[0;34m.\u001b[0m\u001b[0m__getattribute__\u001b[0m\u001b[0;34m(\u001b[0m\u001b[0mself\u001b[0m\u001b[0;34m,\u001b[0m \u001b[0mname\u001b[0m\u001b[0;34m)\u001b[0m\u001b[0;34m\u001b[0m\u001b[0;34m\u001b[0m\u001b[0m\n\u001b[0m\u001b[1;32m   5271\u001b[0m         \u001b[0;32melse\u001b[0m\u001b[0;34m:\u001b[0m\u001b[0;34m\u001b[0m\u001b[0;34m\u001b[0m\u001b[0m\n\u001b[1;32m   5272\u001b[0m             \u001b[0;32mif\u001b[0m \u001b[0mself\u001b[0m\u001b[0;34m.\u001b[0m\u001b[0m_info_axis\u001b[0m\u001b[0;34m.\u001b[0m\u001b[0m_can_hold_identifiers_and_holds_name\u001b[0m\u001b[0;34m(\u001b[0m\u001b[0mname\u001b[0m\u001b[0;34m)\u001b[0m\u001b[0;34m:\u001b[0m\u001b[0;34m\u001b[0m\u001b[0;34m\u001b[0m\u001b[0m\n",
            "\u001b[0;32m/usr/local/lib/python3.6/dist-packages/pandas/core/accessor.py\u001b[0m in \u001b[0;36m__get__\u001b[0;34m(self, obj, cls)\u001b[0m\n\u001b[1;32m    185\u001b[0m             \u001b[0;31m# we're accessing the attribute of the class, i.e., Dataset.geo\u001b[0m\u001b[0;34m\u001b[0m\u001b[0;34m\u001b[0m\u001b[0;34m\u001b[0m\u001b[0m\n\u001b[1;32m    186\u001b[0m             \u001b[0;32mreturn\u001b[0m \u001b[0mself\u001b[0m\u001b[0;34m.\u001b[0m\u001b[0m_accessor\u001b[0m\u001b[0;34m\u001b[0m\u001b[0;34m\u001b[0m\u001b[0m\n\u001b[0;32m--> 187\u001b[0;31m         \u001b[0maccessor_obj\u001b[0m \u001b[0;34m=\u001b[0m \u001b[0mself\u001b[0m\u001b[0;34m.\u001b[0m\u001b[0m_accessor\u001b[0m\u001b[0;34m(\u001b[0m\u001b[0mobj\u001b[0m\u001b[0;34m)\u001b[0m\u001b[0;34m\u001b[0m\u001b[0;34m\u001b[0m\u001b[0m\n\u001b[0m\u001b[1;32m    188\u001b[0m         \u001b[0;31m# Replace the property with the accessor object. Inspired by:\u001b[0m\u001b[0;34m\u001b[0m\u001b[0;34m\u001b[0m\u001b[0;34m\u001b[0m\u001b[0m\n\u001b[1;32m    189\u001b[0m         \u001b[0;31m# http://www.pydanny.com/cached-property.html\u001b[0m\u001b[0;34m\u001b[0m\u001b[0;34m\u001b[0m\u001b[0;34m\u001b[0m\u001b[0m\n",
            "\u001b[0;32m/usr/local/lib/python3.6/dist-packages/pandas/core/indexes/accessors.py\u001b[0m in \u001b[0;36m__new__\u001b[0;34m(cls, data)\u001b[0m\n\u001b[1;32m    336\u001b[0m             \u001b[0;32mreturn\u001b[0m \u001b[0mDatetimeProperties\u001b[0m\u001b[0;34m(\u001b[0m\u001b[0mdata\u001b[0m\u001b[0;34m,\u001b[0m \u001b[0morig\u001b[0m\u001b[0;34m)\u001b[0m\u001b[0;34m\u001b[0m\u001b[0;34m\u001b[0m\u001b[0m\n\u001b[1;32m    337\u001b[0m \u001b[0;34m\u001b[0m\u001b[0m\n\u001b[0;32m--> 338\u001b[0;31m         \u001b[0;32mraise\u001b[0m \u001b[0mAttributeError\u001b[0m\u001b[0;34m(\u001b[0m\u001b[0;34m\"Can only use .dt accessor with datetimelike values\"\u001b[0m\u001b[0;34m)\u001b[0m\u001b[0;34m\u001b[0m\u001b[0;34m\u001b[0m\u001b[0m\n\u001b[0m",
            "\u001b[0;31mAttributeError\u001b[0m: Can only use .dt accessor with datetimelike values"
          ]
        }
      ]
    },
    {
      "cell_type": "code",
      "metadata": {
        "id": "Rr3VME9KSUK0",
        "colab_type": "code",
        "colab": {
          "base_uri": "https://localhost:8080/",
          "height": 35
        },
        "outputId": "b42484cd-b6ec-4a68-bdd3-a77622e9cccb"
      },
      "source": [
        "df['pickup_datetime'].dtypes"
      ],
      "execution_count": 54,
      "outputs": [
        {
          "output_type": "execute_result",
          "data": {
            "text/plain": [
              "dtype('O')"
            ]
          },
          "metadata": {
            "tags": []
          },
          "execution_count": 54
        }
      ]
    },
    {
      "cell_type": "markdown",
      "metadata": {
        "id": "wkmkPvFC5_MV",
        "colab_type": "text"
      },
      "source": [
        "## Location Clustering"
      ]
    },
    {
      "cell_type": "code",
      "metadata": {
        "id": "DkOXe-9J6CVF",
        "colab_type": "code",
        "colab": {}
      },
      "source": [
        ""
      ],
      "execution_count": null,
      "outputs": []
    },
    {
      "cell_type": "markdown",
      "metadata": {
        "id": "WmS3DcnCDkt8",
        "colab_type": "text"
      },
      "source": [
        "## Traveled Distance"
      ]
    },
    {
      "cell_type": "code",
      "metadata": {
        "id": "_UeHwL17EDrA",
        "colab_type": "code",
        "colab": {}
      },
      "source": [
        ""
      ],
      "execution_count": null,
      "outputs": []
    },
    {
      "cell_type": "markdown",
      "metadata": {
        "id": "P5EELd2VDPKG",
        "colab_type": "text"
      },
      "source": [
        "## Public Holiday"
      ]
    },
    {
      "cell_type": "code",
      "metadata": {
        "id": "2XVk0cRQDYOX",
        "colab_type": "code",
        "colab": {}
      },
      "source": [
        ""
      ],
      "execution_count": null,
      "outputs": []
    },
    {
      "cell_type": "markdown",
      "metadata": {
        "id": "kAMGdLiu6Kpn",
        "colab_type": "text"
      },
      "source": [
        "## Weather"
      ]
    },
    {
      "cell_type": "code",
      "metadata": {
        "id": "_xDdazMT6M_Y",
        "colab_type": "code",
        "colab": {}
      },
      "source": [
        ""
      ],
      "execution_count": null,
      "outputs": []
    }
  ]
}